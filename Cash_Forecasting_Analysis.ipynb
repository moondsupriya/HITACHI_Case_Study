{
 "cells": [
  {
   "cell_type": "markdown",
   "id": "0f748213",
   "metadata": {},
   "source": [
    "Goal: Forecast daily cash dispense for each ATM for the next 7 days."
   ]
  },
  {
   "cell_type": "markdown",
   "id": "ca7d1ee7",
   "metadata": {},
   "source": [
    "1. Data Understanding & Cleaning\n",
    "Load the dataset.\n",
    "\n",
    "Check for missing/null values.\n",
    "\n",
    "Parse date columns correctly.\n",
    "\n",
    "Understand basic statistics (mean, median, standard deviation) for:\n",
    "\n",
    "Dispense\n",
    "\n",
    "DT (downtime)\n",
    "\n",
    "CountTotalTxn\n",
    "\n",
    "Verify data coverage for 2 years and 7 ATMs per bank."
   ]
  }
 ],
 "metadata": {
  "kernelspec": {
   "display_name": "Python 3",
   "language": "python",
   "name": "python3"
  },
  "language_info": {
   "codemirror_mode": {
    "name": "ipython",
    "version": 3
   },
   "file_extension": ".py",
   "mimetype": "text/x-python",
   "name": "python",
   "nbconvert_exporter": "python",
   "pygments_lexer": "ipython3",
   "version": "3.11.9"
  }
 },
 "nbformat": 4,
 "nbformat_minor": 5
}
