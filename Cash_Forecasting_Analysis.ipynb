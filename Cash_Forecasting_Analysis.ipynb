{
 "cells": [
  {
   "cell_type": "markdown",
   "id": "0f748213",
   "metadata": {},
   "source": [
    "Goal: Forecast daily cash dispense for each ATM for the next 7 days."
   ]
  },
  {
   "cell_type": "markdown",
   "id": "ca7d1ee7",
   "metadata": {},
   "source": [
    "1. Data Understanding & Cleaning\n",
    "\n",
    "    - Load the dataset.\n",
    "    - Check for missing/null values.\n",
    "    - Parse date columns correctly.\n",
    "    - Verify data coverage for 2 years and 7 ATMs per bank.\n",
    "    - Convert Caldate to datetime format\n",
    "    - Sort the data by ATMID and Caldate\n",
    "    - Fill in missing dates (if any) per ATM with zeros or interpolation"
   ]
  },
  {
   "cell_type": "markdown",
   "id": "bd88dbe1",
   "metadata": {},
   "source": [
    "2. Feature Engineering\n",
    "\n",
    "\n",
    "| Feature         | Description                                |\n",
    "|-----------------|--------------------------------------------|\n",
    "| DayOfWeek       | Categorical feature (Monday–Sunday)        |\n",
    "| IsWeekend       | Boolean flag for weekends                  |\n",
    "| Lag_1, Lag_7    | Previous day's and 1-week-ago dispense     |\n",
    "| RollingMean_7   | 7-day rolling average                      |\n",
    "| DT_ratio        | Downtime in % of the day                   |\n",
    "| Utilization     | Dispense / MaxCapacity                     |"
   ]
  },
  {
   "cell_type": "markdown",
   "id": "2f02b21b",
   "metadata": {},
   "source": [
    "3. Model Choice\n",
    "\n",
    "- Per Bank Forecast using Machine Learning\n",
    "    - Use XGBoost/LightGBM regressor trained on:\n",
    "        - Features: Lags, rolling means, day-of-week, DT, transaction count, etc.\n",
    "        - Target: Dispense\n",
    "    - Train one model per Bank, not ATM.\n",
    "\n",
    "    ✅ Pros:\n",
    "        - Can handle nonlinear patterns\n",
    "        - Scalable across thousands of ATMs\n",
    "\n",
    "    ❌ Cons: \n",
    "        - Needs data transformation to supervised format"
   ]
  },
  {
   "cell_type": "markdown",
   "id": "ebd9a5f1",
   "metadata": {},
   "source": [
    "4. Forecast Generation\n",
    "    - Generate predictions for next 7 days (e.g., April 6–12)\n",
    "    - Clip predictions to ATM’s MaxCapacity\n",
    "    - Optional buffer (e.g., +10%) to prevent underloading"
   ]
  },
  {
   "cell_type": "markdown",
   "id": "ec54ad2b",
   "metadata": {},
   "source": [
    "5. Forecast Output Format"
   ]
  }
 ],
 "metadata": {
  "kernelspec": {
   "display_name": "Python 3",
   "language": "python",
   "name": "python3"
  },
  "language_info": {
   "codemirror_mode": {
    "name": "ipython",
    "version": 3
   },
   "file_extension": ".py",
   "mimetype": "text/x-python",
   "name": "python",
   "nbconvert_exporter": "python",
   "pygments_lexer": "ipython3",
   "version": "3.11.9"
  }
 },
 "nbformat": 4,
 "nbformat_minor": 5
}
